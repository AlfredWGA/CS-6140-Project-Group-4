{
 "cells": [
  {
   "cell_type": "code",
   "execution_count": 2,
   "source": [
    "from pathlib import Path\r\n",
    "import gensim"
   ],
   "outputs": [],
   "metadata": {}
  },
  {
   "cell_type": "code",
   "execution_count": 5,
   "source": [
    "current_path = Path(\".\").resolve()"
   ],
   "outputs": [],
   "metadata": {}
  },
  {
   "cell_type": "code",
   "execution_count": 7,
   "source": [
    "e2v = gensim.models.KeyedVectors.load_word2vec_format(current_path / '..' / 'emoji2vec' / 'pre-trained' / 'emoji2vec.bin', binary=True)\r\n",
    "happy_vector = e2v['😥']    # Produces an embedding vector of length 300"
   ],
   "outputs": [],
   "metadata": {}
  },
  {
   "cell_type": "code",
   "execution_count": 8,
   "source": [
    "e2v.most_similar('😥')"
   ],
   "outputs": [
    {
     "output_type": "execute_result",
     "data": {
      "text/plain": [
       "[('😞', 0.5733209848403931),\n",
       " ('😰', 0.4575079679489136),\n",
       " ('😾', 0.42171573638916016),\n",
       " ('🤦', 0.4154842495918274),\n",
       " ('😖', 0.4148420989513397),\n",
       " ('😬', 0.3952203392982483),\n",
       " ('😅', 0.3915688097476959),\n",
       " ('😳', 0.3896922767162323),\n",
       " ('🤤', 0.38780584931373596),\n",
       " ('😓', 0.38488876819610596)]"
      ]
     },
     "metadata": {},
     "execution_count": 8
    }
   ],
   "metadata": {}
  },
  {
   "cell_type": "code",
   "execution_count": 9,
   "source": [
    "e2v.most_similar('🚗')\r\n"
   ],
   "outputs": [
    {
     "output_type": "execute_result",
     "data": {
      "text/plain": [
       "[('🚘', 0.9889936447143555),\n",
       " ('🚙', 0.6975614428520203),\n",
       " ('🚕', 0.6358820199966431),\n",
       " ('🚃', 0.6210715174674988),\n",
       " ('🏍', 0.5968946218490601),\n",
       " ('🚐', 0.539250910282135),\n",
       " ('🛴', 0.4763520359992981),\n",
       " ('🚴', 0.4760514795780182),\n",
       " ('🛵', 0.4722137451171875),\n",
       " ('🚤', 0.4669282138347626)]"
      ]
     },
     "metadata": {},
     "execution_count": 9
    }
   ],
   "metadata": {}
  },
  {
   "cell_type": "code",
   "execution_count": 8,
   "source": [
    "e2v.most_similar('🌏')"
   ],
   "outputs": [
    {
     "output_type": "execute_result",
     "data": {
      "text/plain": [
       "[('🌍', 0.8835557699203491),\n",
       " ('🌎', 0.8245000839233398),\n",
       " ('🌐', 0.7713976502418518),\n",
       " ('🌌', 0.5382460951805115),\n",
       " ('🐨', 0.4801901876926422),\n",
       " ('🌃', 0.4631120562553406),\n",
       " ('👾', 0.4623379707336426),\n",
       " ('💵', 0.438414990901947),\n",
       " ('🏰', 0.41232866048812866),\n",
       " ('🏡', 0.40909820795059204)]"
      ]
     },
     "metadata": {},
     "execution_count": 8
    }
   ],
   "metadata": {}
  },
  {
   "cell_type": "code",
   "execution_count": 10,
   "source": [
    "word2vec = gensim.models.KeyedVectors.load_word2vec_format(current_path / '..' / 'GoogleNews-vectors-negative300.bin', binary=True)"
   ],
   "outputs": [],
   "metadata": {}
  },
  {
   "cell_type": "code",
   "execution_count": 11,
   "source": [
    "word2vec.most_similar(\"plane\")"
   ],
   "outputs": [
    {
     "output_type": "execute_result",
     "data": {
      "text/plain": [
       "[('airplane', 0.8348401784896851),\n",
       " ('jet', 0.7661096453666687),\n",
       " ('planes', 0.7439612746238708),\n",
       " ('aircraft', 0.7360519170761108),\n",
       " ('jetliner', 0.7206447124481201),\n",
       " ('airliner', 0.7167279720306396),\n",
       " ('Cessna', 0.684240996837616),\n",
       " ('Plane', 0.6765830516815186),\n",
       " ('propeller_plane', 0.6752767562866211),\n",
       " ('flight', 0.67473304271698)]"
      ]
     },
     "metadata": {},
     "execution_count": 11
    }
   ],
   "metadata": {}
  },
  {
   "cell_type": "code",
   "execution_count": 12,
   "source": [
    "e2v.similar_by_vector(word2vec.wv[\"plane\"])"
   ],
   "outputs": [
    {
     "output_type": "stream",
     "name": "stderr",
     "text": [
      "D:\\anaconda3\\envs\\wga\\lib\\site-packages\\ipykernel_launcher.py:1: DeprecationWarning: Call to deprecated `wv` (Attribute will be removed in 4.0.0, use self instead).\n",
      "  \"\"\"Entry point for launching an IPython kernel.\n"
     ]
    },
    {
     "output_type": "execute_result",
     "data": {
      "text/plain": [
       "[('✈️', 0.6450539231300354),\n",
       " ('🛬', 0.6059057712554932),\n",
       " ('🛩', 0.5790331363677979),\n",
       " ('🚁', 0.507942795753479),\n",
       " ('🛳', 0.4538339674472809),\n",
       " ('🚂', 0.41746386885643005),\n",
       " ('🚢', 0.3938433527946472),\n",
       " ('🚃', 0.3859480619430542),\n",
       " ('🚋', 0.38579776883125305),\n",
       " ('⛵️', 0.38145554065704346)]"
      ]
     },
     "metadata": {},
     "execution_count": 12
    }
   ],
   "metadata": {}
  },
  {
   "cell_type": "code",
   "execution_count": 13,
   "source": [
    "import spacy\r\n",
    "\r\n",
    "nlp = spacy.load(\"en_core_web_sm\")"
   ],
   "outputs": [],
   "metadata": {}
  },
  {
   "cell_type": "code",
   "execution_count": 14,
   "source": [
    "from spacy.lang.en.stop_words import STOP_WORDS\r\n",
    "import string\r\n",
    "\r\n",
    "def translate(sentence, e2v, word2vec):\r\n",
    "    doc = nlp(sentence)\r\n",
    "    result = []\r\n",
    "    for token in doc:\r\n",
    "        # If the token isn't in the word2vec model or it's a stop word\r\n",
    "        if token.text not in word2vec.wv or token.text in STOP_WORDS or token.text in string.punctuation:\r\n",
    "            continue\r\n",
    "        # i = most_similar(vectors=emoji_vectors, vec=model.wv[token.text])[0]\r\n",
    "        emoji = e2v.similar_by_vector(word2vec.wv[token.text])[0][0]\r\n",
    "        result.append(emoji)\r\n",
    "\r\n",
    "    return result"
   ],
   "outputs": [],
   "metadata": {}
  },
  {
   "cell_type": "code",
   "execution_count": 16,
   "source": [
    "translate(\"There's a cat sat on the mat\", e2v, word2vec)"
   ],
   "outputs": [
    {
     "output_type": "stream",
     "name": "stderr",
     "text": [
      "D:\\anaconda3\\envs\\wga\\lib\\site-packages\\ipykernel_launcher.py:9: DeprecationWarning: Call to deprecated `wv` (Attribute will be removed in 4.0.0, use self instead).\n",
      "  if __name__ == '__main__':\n",
      "D:\\anaconda3\\envs\\wga\\lib\\site-packages\\ipykernel_launcher.py:12: DeprecationWarning: Call to deprecated `wv` (Attribute will be removed in 4.0.0, use self instead).\n",
      "  if sys.path[0] == '':\n"
     ]
    },
    {
     "output_type": "execute_result",
     "data": {
      "text/plain": [
       "['🙅🏼', '🐈', '👈', '🛋']"
      ]
     },
     "metadata": {},
     "execution_count": 16
    }
   ],
   "metadata": {}
  },
  {
   "cell_type": "code",
   "execution_count": null,
   "source": [],
   "outputs": [],
   "metadata": {}
  }
 ],
 "metadata": {
  "orig_nbformat": 4,
  "language_info": {
   "name": "python",
   "version": "3.7.4",
   "mimetype": "text/x-python",
   "codemirror_mode": {
    "name": "ipython",
    "version": 3
   },
   "pygments_lexer": "ipython3",
   "nbconvert_exporter": "python",
   "file_extension": ".py"
  },
  "kernelspec": {
   "name": "python3",
   "display_name": "Python 3.7.4 64-bit ('wga': conda)"
  },
  "interpreter": {
   "hash": "ff0f22a2535745be64df84e6dc33f20577346bbaee89a238cbcfe25735348c8b"
  }
 },
 "nbformat": 4,
 "nbformat_minor": 2
}