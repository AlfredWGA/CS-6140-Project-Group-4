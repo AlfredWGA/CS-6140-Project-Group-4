{
 "cells": [
  {
   "cell_type": "code",
   "execution_count": 1,
   "metadata": {},
   "outputs": [],
   "source": [
    "import spacy\n",
    "from pathlib import Path\n",
    "from collections import Counter"
   ]
  },
  {
   "cell_type": "code",
   "execution_count": 2,
   "metadata": {},
   "outputs": [],
   "source": [
    "current_path = Path(\".\").resolve()\n",
    "project_path = current_path.parent"
   ]
  },
  {
   "cell_type": "code",
   "execution_count": 3,
   "metadata": {},
   "outputs": [],
   "source": [
    "nlp = spacy.load(\"en_core_web_md\")"
   ]
  },
  {
   "cell_type": "markdown",
   "metadata": {},
   "source": [
    "## Generate the emoji vocabulary"
   ]
  },
  {
   "cell_type": "code",
   "execution_count": 4,
   "metadata": {},
   "outputs": [],
   "source": [
    "vocab = set()"
   ]
  },
  {
   "cell_type": "code",
   "execution_count": 5,
   "metadata": {},
   "outputs": [],
   "source": [
    "with open(project_path / \"emoji2vec\" / \"data\" / \"raw_training_data\" / \"emoji_joined.txt\", \"r\", encoding=\"utf-8\") as f:\n",
    "    for line in f:\n",
    "        e = line.strip().split(\"\\t\")[1]\n",
    "        # counter.update(e)\n",
    "        vocab.add(e)"
   ]
  },
  {
   "cell_type": "code",
   "execution_count": 6,
   "metadata": {},
   "outputs": [],
   "source": [
    "vocab = list(vocab)\n",
    "vocab = [\"PAD\"] + vocab"
   ]
  },
  {
   "cell_type": "code",
   "execution_count": 7,
   "metadata": {},
   "outputs": [
    {
     "data": {
      "text/plain": [
       "1662"
      ]
     },
     "execution_count": 7,
     "metadata": {},
     "output_type": "execute_result"
    }
   ],
   "source": [
    "len(vocab)"
   ]
  },
  {
   "cell_type": "code",
   "execution_count": 8,
   "metadata": {},
   "outputs": [
    {
     "data": {
      "text/plain": [
       "['PAD', '🏊', '💃🏻', '🅱️', '⬛', '☔️', '📱', '🇯🇲', '👶🏿', '3⃣️']"
      ]
     },
     "execution_count": 8,
     "metadata": {},
     "output_type": "execute_result"
    }
   ],
   "source": [
    "vocab[:10]"
   ]
  },
  {
   "cell_type": "code",
   "execution_count": 9,
   "metadata": {},
   "outputs": [],
   "source": [
    "with open(current_path / \"data\"/ \"vocab.txt\", \"w\", encoding=\"utf-8\") as f:\n",
    "    for e in vocab:\n",
    "        f.write(e + \"\\n\")"
   ]
  },
  {
   "cell_type": "markdown",
   "metadata": {},
   "source": [
    "## Load the Word2Vec model and take a look"
   ]
  },
  {
   "cell_type": "code",
   "execution_count": 10,
   "metadata": {},
   "outputs": [],
   "source": [
    "import gensim\n",
    "import numpy as np"
   ]
  },
  {
   "cell_type": "code",
   "execution_count": 34,
   "metadata": {},
   "outputs": [],
   "source": [
    "word2vec = gensim.models.KeyedVectors.load_word2vec_format(current_path / '..' / 'GoogleNews-vectors-negative300.bin', binary=True)"
   ]
  },
  {
   "cell_type": "code",
   "execution_count": null,
   "metadata": {},
   "outputs": [],
   "source": [
    "word2vec.most_similar(\"plane\")"
   ]
  },
  {
   "cell_type": "markdown",
   "metadata": {},
   "source": [
    "## Try to load the emoji2vec dataset using Pandas"
   ]
  },
  {
   "cell_type": "code",
   "execution_count": 13,
   "metadata": {},
   "outputs": [],
   "source": [
    "import pandas as pd\n",
    "\n",
    "\n",
    "def load_emoji2vec_dataset(fpath):\n",
    "    \"\"\"\n",
    "    Load the dataset in emoji2vec using pandas DataFrame\n",
    "    \"\"\"\n",
    "    descs = []\n",
    "    emojis = []\n",
    "    labels = []\n",
    "    with open(fpath, \"r\", encoding=\"utf-8\") as f:\n",
    "        for line in f:\n",
    "            d, e, l = line.strip().split(\"\\t\")\n",
    "            descs.append(d)\n",
    "            emojis.append(e)\n",
    "            if l == \"True\":\n",
    "                labels.append(1)\n",
    "            else:\n",
    "                labels.append(0)\n",
    "    \n",
    "    return pd.DataFrame({\"description\": descs, \"emoji\": emojis, \"label\": labels})\n",
    "    "
   ]
  },
  {
   "cell_type": "code",
   "execution_count": 14,
   "metadata": {},
   "outputs": [],
   "source": [
    "train_df = load_emoji2vec_dataset(project_path / \"emoji2vec\" / \"data\" / \"training\" / \"train.txt\")"
   ]
  },
  {
   "cell_type": "code",
   "execution_count": 15,
   "metadata": {},
   "outputs": [
    {
     "data": {
      "text/html": [
       "<div>\n",
       "<style scoped>\n",
       "    .dataframe tbody tr th:only-of-type {\n",
       "        vertical-align: middle;\n",
       "    }\n",
       "\n",
       "    .dataframe tbody tr th {\n",
       "        vertical-align: top;\n",
       "    }\n",
       "\n",
       "    .dataframe thead th {\n",
       "        text-align: right;\n",
       "    }\n",
       "</style>\n",
       "<table border=\"1\" class=\"dataframe\">\n",
       "  <thead>\n",
       "    <tr style=\"text-align: right;\">\n",
       "      <th></th>\n",
       "      <th>description</th>\n",
       "      <th>emoji</th>\n",
       "      <th>label</th>\n",
       "    </tr>\n",
       "  </thead>\n",
       "  <tbody>\n",
       "    <tr>\n",
       "      <th>0</th>\n",
       "      <td>regional indicator symbol letters sk</td>\n",
       "      <td>🇸🇰</td>\n",
       "      <td>1</td>\n",
       "    </tr>\n",
       "    <tr>\n",
       "      <th>1</th>\n",
       "      <td>necktie</td>\n",
       "      <td>👔</td>\n",
       "      <td>1</td>\n",
       "    </tr>\n",
       "    <tr>\n",
       "      <th>2</th>\n",
       "      <td>weather</td>\n",
       "      <td>🌀</td>\n",
       "      <td>1</td>\n",
       "    </tr>\n",
       "    <tr>\n",
       "      <th>3</th>\n",
       "      <td>throne</td>\n",
       "      <td>🚾</td>\n",
       "      <td>1</td>\n",
       "    </tr>\n",
       "    <tr>\n",
       "      <th>4</th>\n",
       "      <td>scary</td>\n",
       "      <td>👹</td>\n",
       "      <td>1</td>\n",
       "    </tr>\n",
       "    <tr>\n",
       "      <th>...</th>\n",
       "      <td>...</td>\n",
       "      <td>...</td>\n",
       "      <td>...</td>\n",
       "    </tr>\n",
       "    <tr>\n",
       "      <th>5583</th>\n",
       "      <td>phone call</td>\n",
       "      <td>📲</td>\n",
       "      <td>1</td>\n",
       "    </tr>\n",
       "    <tr>\n",
       "      <th>5584</th>\n",
       "      <td>regional indicator symbol letters kw</td>\n",
       "      <td>🇰🇼</td>\n",
       "      <td>1</td>\n",
       "    </tr>\n",
       "    <tr>\n",
       "      <th>5585</th>\n",
       "      <td>cake</td>\n",
       "      <td>🍰</td>\n",
       "      <td>1</td>\n",
       "    </tr>\n",
       "    <tr>\n",
       "      <th>5586</th>\n",
       "      <td>regional indicator symbol letters lv</td>\n",
       "      <td>🇱🇻</td>\n",
       "      <td>1</td>\n",
       "    </tr>\n",
       "    <tr>\n",
       "      <th>5587</th>\n",
       "      <td>turkey</td>\n",
       "      <td>🦃</td>\n",
       "      <td>1</td>\n",
       "    </tr>\n",
       "  </tbody>\n",
       "</table>\n",
       "<p>5588 rows × 3 columns</p>\n",
       "</div>"
      ],
      "text/plain": [
       "                               description emoji  label\n",
       "0     regional indicator symbol letters sk    🇸🇰      1\n",
       "1                                  necktie     👔      1\n",
       "2                                  weather     🌀      1\n",
       "3                                   throne     🚾      1\n",
       "4                                    scary     👹      1\n",
       "...                                    ...   ...    ...\n",
       "5583                            phone call     📲      1\n",
       "5584  regional indicator symbol letters kw    🇰🇼      1\n",
       "5585                                  cake     🍰      1\n",
       "5586  regional indicator symbol letters lv    🇱🇻      1\n",
       "5587                                turkey     🦃      1\n",
       "\n",
       "[5588 rows x 3 columns]"
      ]
     },
     "execution_count": 15,
     "metadata": {},
     "output_type": "execute_result"
    }
   ],
   "source": [
    "train_df"
   ]
  },
  {
   "cell_type": "code",
   "execution_count": 16,
   "metadata": {},
   "outputs": [],
   "source": [
    "dev_df = load_emoji2vec_dataset(project_path / \"emoji2vec\" / \"data\" / \"training\" / \"dev.txt\")\n",
    "test_df = load_emoji2vec_dataset(project_path / \"emoji2vec\" / \"data\" / \"training\" / \"test.txt\")"
   ]
  },
  {
   "cell_type": "code",
   "execution_count": 26,
   "metadata": {},
   "outputs": [
    {
     "name": "stdout",
     "output_type": "stream",
     "text": [
      "Number of samples for each split:\n",
      "5588 500 500\n"
     ]
    }
   ],
   "source": [
    "print(\"Number of samples for each split:\")\n",
    "print(len(train_df), len(dev_df), len(test_df))"
   ]
  },
  {
   "cell_type": "code",
   "execution_count": 28,
   "metadata": {},
   "outputs": [
    {
     "name": "stdout",
     "output_type": "stream",
     "text": [
      "Number of positive/negative samples:\n",
      "Train:  5588 0\n",
      "Dev:  250 250\n",
      "Test:  250 250\n"
     ]
    }
   ],
   "source": [
    "print(\"Number of positive/negative samples:\")\n",
    "print(\"Train: \", len(train_df[train_df[\"label\"] == 1]), len(train_df[train_df[\"label\"] == 0]))\n",
    "print(\"Dev: \", len(dev_df[dev_df[\"label\"] == 1]), len(dev_df[dev_df[\"label\"] == 0]))\n",
    "print(\"Test: \", len(test_df[test_df[\"label\"] == 1]), len(test_df[test_df[\"label\"] == 0]))"
   ]
  },
  {
   "cell_type": "markdown",
   "metadata": {},
   "source": [
    "There's no negative samples in the **training set**, thus we need to randomly draw negative samples with the same number of positive smaples."
   ]
  },
  {
   "cell_type": "code",
   "execution_count": 30,
   "metadata": {},
   "outputs": [
    {
     "data": {
      "text/html": [
       "<div>\n",
       "<style scoped>\n",
       "    .dataframe tbody tr th:only-of-type {\n",
       "        vertical-align: middle;\n",
       "    }\n",
       "\n",
       "    .dataframe tbody tr th {\n",
       "        vertical-align: top;\n",
       "    }\n",
       "\n",
       "    .dataframe thead th {\n",
       "        text-align: right;\n",
       "    }\n",
       "</style>\n",
       "<table border=\"1\" class=\"dataframe\">\n",
       "  <thead>\n",
       "    <tr style=\"text-align: right;\">\n",
       "      <th></th>\n",
       "      <th>description</th>\n",
       "      <th>emoji</th>\n",
       "      <th>label</th>\n",
       "    </tr>\n",
       "  </thead>\n",
       "  <tbody>\n",
       "    <tr>\n",
       "      <th>0</th>\n",
       "      <td>buzz</td>\n",
       "      <td>🚣🏻</td>\n",
       "      <td>0</td>\n",
       "    </tr>\n",
       "    <tr>\n",
       "      <th>1</th>\n",
       "      <td>squared new</td>\n",
       "      <td>👴</td>\n",
       "      <td>0</td>\n",
       "    </tr>\n",
       "    <tr>\n",
       "      <th>2</th>\n",
       "      <td>sake bottle and cup</td>\n",
       "      <td>🔲</td>\n",
       "      <td>0</td>\n",
       "    </tr>\n",
       "    <tr>\n",
       "      <th>3</th>\n",
       "      <td>flag for singapore</td>\n",
       "      <td>🍚</td>\n",
       "      <td>0</td>\n",
       "    </tr>\n",
       "    <tr>\n",
       "      <th>4</th>\n",
       "      <td>heat</td>\n",
       "      <td>🕴</td>\n",
       "      <td>0</td>\n",
       "    </tr>\n",
       "    <tr>\n",
       "      <th>...</th>\n",
       "      <td>...</td>\n",
       "      <td>...</td>\n",
       "      <td>...</td>\n",
       "    </tr>\n",
       "    <tr>\n",
       "      <th>149151</th>\n",
       "      <td>white girl</td>\n",
       "      <td>🐖</td>\n",
       "      <td>0</td>\n",
       "    </tr>\n",
       "    <tr>\n",
       "      <th>149152</th>\n",
       "      <td>heavy black heart</td>\n",
       "      <td>🍁</td>\n",
       "      <td>0</td>\n",
       "    </tr>\n",
       "    <tr>\n",
       "      <th>149153</th>\n",
       "      <td>flag for qatar</td>\n",
       "      <td>🚢</td>\n",
       "      <td>0</td>\n",
       "    </tr>\n",
       "    <tr>\n",
       "      <th>149154</th>\n",
       "      <td>gala apple</td>\n",
       "      <td>🙎</td>\n",
       "      <td>0</td>\n",
       "    </tr>\n",
       "    <tr>\n",
       "      <th>149155</th>\n",
       "      <td>sexy</td>\n",
       "      <td>📰</td>\n",
       "      <td>0</td>\n",
       "    </tr>\n",
       "  </tbody>\n",
       "</table>\n",
       "<p>149156 rows × 3 columns</p>\n",
       "</div>"
      ],
      "text/plain": [
       "                description emoji  label\n",
       "0                      buzz   🚣🏻       0\n",
       "1               squared new    👴       0\n",
       "2       sake bottle and cup    🔲       0\n",
       "3        flag for singapore    🍚       0\n",
       "4                      heat    🕴       0\n",
       "...                     ...   ...    ...\n",
       "149151           white girl    🐖       0\n",
       "149152    heavy black heart    🍁       0\n",
       "149153       flag for qatar    🚢       0\n",
       "149154           gala apple    🙎       0\n",
       "149155                 sexy    📰       0\n",
       "\n",
       "[149156 rows x 3 columns]"
      ]
     },
     "execution_count": 30,
     "metadata": {},
     "output_type": "execute_result"
    }
   ],
   "source": [
    "neg_df = load_emoji2vec_dataset(project_path / \"emoji2vec\" / \"data\" / \"raw_training_data\" / \"shuf_neg_samples.txt\")\n",
    "neg_df"
   ]
  },
  {
   "cell_type": "markdown",
   "metadata": {},
   "source": [
    "Plot the length of descriptions in the training set"
   ]
  },
  {
   "cell_type": "code",
   "execution_count": 18,
   "metadata": {},
   "outputs": [],
   "source": [
    "train_desc_lens = [len(nlp(x)) for x in train_df[\"description\"]]"
   ]
  },
  {
   "cell_type": "code",
   "execution_count": 19,
   "metadata": {},
   "outputs": [
    {
     "data": {
      "text/plain": [
       "(array([4.41e+03, 5.58e+02, 2.24e+02, 2.97e+02, 4.80e+01, 3.40e+01,\n",
       "        5.00e+00, 4.00e+00, 3.00e+00, 5.00e+00]),\n",
       " array([ 1. ,  2.1,  3.2,  4.3,  5.4,  6.5,  7.6,  8.7,  9.8, 10.9, 12. ]),\n",
       " <BarContainer object of 10 artists>)"
      ]
     },
     "execution_count": 19,
     "metadata": {},
     "output_type": "execute_result"
    },
    {
     "data": {
      "image/png": "[encoded data removed]",
      "text/plain": [
       "<Figure size 432x288 with 1 Axes>"
      ]
     },
     "metadata": {
      "needs_background": "light"
     },
     "output_type": "display_data"
    }
   ],
   "source": [
    "from matplotlib import pyplot as plt\n",
    "\n",
    "plt.xlabel('Length of descriptions')\n",
    "plt.ylabel('Number of training samples')\n",
    "plt.hist(x=train_desc_lens)"
   ]
  },
  {
   "cell_type": "markdown",
   "metadata": {},
   "source": [
    "Try out a transform function to transform a sentence into list of word vectors."
   ]
  },
  {
   "cell_type": "code",
   "execution_count": 20,
   "metadata": {},
   "outputs": [],
   "source": [
    "from spacy.lang.en.stop_words import STOP_WORDS\n",
    "import string\n",
    "\n",
    "def transform(sentence: str, max_len, nlp, word2vec):\n",
    "    \"\"\"\n",
    "    Transform a sentence into word vectors. The setence is tokenized into words using spacy, then\n",
    "    the vector of each word is retrieved using the word2vec model.\n",
    "    \n",
    "    Args:\n",
    "        sentence:\n",
    "            The sentence to transform.\n",
    "        max_len:\n",
    "            The maximum length for each sentence.\n",
    "        nlp:\n",
    "            The SpaCy model.\n",
    "        word2vec:\n",
    "            The gensim word2vec model.\n",
    "        \n",
    "    \"\"\"\n",
    "    vec_dim = word2vec[\"hello\"].shape[0]\n",
    "    doc = nlp(sentence)\n",
    "    vectors = []\n",
    "    for token in doc:\n",
    "        if len(vectors) == max_len:\n",
    "            break\n",
    "        # If the token isn't in the word2vec model\n",
    "        if token.text not in word2vec.wv:\n",
    "            continue\n",
    "        vectors.append(word2vec[token.text])\n",
    "\n",
    "    # If the length is < max_len, add padding\n",
    "    if len(vectors) < max_len:\n",
    "        num_padding = max_len - len(vectors)\n",
    "        for i in range(num_padding):\n",
    "            vectors.append(np.zeros(shape=[1, vec_dim]))\n",
    "    # If the length is too long, we truncate the sentence\n",
    "    elif len(vectors) > max_len:\n",
    "        vectors = vectors[:max_len]\n",
    "    \n",
    "    assert len(vectors) == max_len\n",
    "\n",
    "    return np.vstack(vectors)"
   ]
  },
  {
   "cell_type": "code",
   "execution_count": 21,
   "metadata": {},
   "outputs": [
    {
     "name": "stderr",
     "output_type": "stream",
     "text": [
      "D:\\anaconda3\\envs\\wga\\lib\\site-packages\\ipykernel_launcher.py:27: DeprecationWarning: Call to deprecated `wv` (Attribute will be removed in 4.0.0, use self instead).\n"
     ]
    },
    {
     "data": {
      "text/plain": [
       "(5, 300)"
      ]
     },
     "execution_count": 21,
     "metadata": {},
     "output_type": "execute_result"
    }
   ],
   "source": [
    "transform(\"I have a dream\", 5, nlp, word2vec).shape"
   ]
  }
 ],
 "metadata": {
  "interpreter": {
   "hash": "ff0f22a2535745be64df84e6dc33f20577346bbaee89a238cbcfe25735348c8b"
  },
  "kernelspec": {
   "display_name": "Python 3.7.4 64-bit",
   "name": "python3"
  },
  "language_info": {
   "codemirror_mode": {
    "name": "ipython",
    "version": 3
   },
   "file_extension": ".py",
   "mimetype": "text/x-python",
   "name": "python",
   "nbconvert_exporter": "python",
   "pygments_lexer": "ipython3",
   "version": "3.7.4"
  },
  "orig_nbformat": 4
 },
 "nbformat": 4,
 "nbformat_minor": 2
}
